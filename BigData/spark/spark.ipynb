{
 "cells": [
  {
   "cell_type": "code",
   "id": "initial_id",
   "metadata": {
    "collapsed": true,
    "ExecuteTime": {
     "end_time": "2024-12-05T11:10:19.563343Z",
     "start_time": "2024-12-05T11:10:19.412267Z"
    }
   },
   "source": [
    "from pyspark import SparkContext\n",
    "import warnings\n",
    "warnings.filterwarnings(\"ignore\")\n",
    "from pyspark.sql import SparkSession\n",
    "from pyspark.sql import functions as F\n",
    "from pyspark.sql.functions import split, explode, col, desc, trim"
   ],
   "outputs": [],
   "execution_count": 1
  },
  {
   "metadata": {
    "ExecuteTime": {
     "end_time": "2024-12-05T11:11:03.544601Z",
     "start_time": "2024-12-05T11:11:01.550470Z"
    }
   },
   "cell_type": "code",
   "source": [
    "sc = SparkContext('local', 'Top10WordCount')\n",
    "text = sc.textFile('book.txt')\n",
    "\n",
    "counts = (text.flatMap(lambda line: line.split())\n",
    "          .map(lambda word: (word, 1))\n",
    "          .reduceByKey(lambda x, y: x + y))\n",
    "top10 = counts.takeOrdered(10, key=lambda x: -x[1])\n",
    "\n",
    "for word, count in top10:\n",
    "    print(f\"{word}: {count}\")\n",
    "   \n",
    "sc.stop()"
   ],
   "id": "7829966a42caab6d",
   "outputs": [
    {
     "name": "stderr",
     "output_type": "stream",
     "text": [
      "                                                                                \r"
     ]
    },
    {
     "name": "stdout",
     "output_type": "stream",
     "text": [
      "the: 1691\n",
      "to: 970\n",
      "and: 968\n",
      "of: 572\n",
      "a: 516\n",
      "that: 505\n",
      "I: 467\n",
      "in: 437\n",
      "he: 432\n",
      "not: 374\n"
     ]
    }
   ],
   "execution_count": 6
  },
  {
   "metadata": {
    "ExecuteTime": {
     "end_time": "2024-12-05T11:11:24.039177Z",
     "start_time": "2024-12-05T11:11:23.406988Z"
    }
   },
   "cell_type": "code",
   "source": [
    "spark = SparkSession.builder.appName('flights').getOrCreate()\n",
    "\n",
    "text = spark.read.text('book.txt')\n",
    "words = (text.select(explode(split(col('value'), ' ')).alias('word')).filter(trim(col('word')) != ''))\n",
    "wordscount = words.groupBy('word').count()\n",
    "\n",
    "top10 = wordscount.orderBy(desc('count')).limit(10)\n",
    "top10.show()\n"
   ],
   "id": "bcfbb9b59e1f0d",
   "outputs": [
    {
     "name": "stdout",
     "output_type": "stream",
     "text": [
      "+----+-----+\n",
      "|word|count|\n",
      "+----+-----+\n",
      "| the| 1691|\n",
      "|  to|  970|\n",
      "| and|  968|\n",
      "|  of|  572|\n",
      "|   a|  516|\n",
      "|that|  505|\n",
      "|   I|  467|\n",
      "|  in|  437|\n",
      "|  he|  432|\n",
      "| not|  374|\n",
      "+----+-----+\n",
      "\n"
     ]
    }
   ],
   "execution_count": 9
  },
  {
   "metadata": {
    "ExecuteTime": {
     "end_time": "2024-12-05T11:11:19.948956Z",
     "start_time": "2024-12-05T11:11:19.942746Z"
    }
   },
   "cell_type": "code",
   "source": "spark.stop()",
   "id": "53baa3bf2525465f",
   "outputs": [],
   "execution_count": 8
  },
  {
   "metadata": {
    "ExecuteTime": {
     "end_time": "2024-12-05T11:11:32.894576Z",
     "start_time": "2024-12-05T11:11:26.439442Z"
    }
   },
   "cell_type": "code",
   "source": [
    "airlines = spark.read.csv('2008.csv', header=True, inferSchema=True)\n",
    "airports = spark.read.csv('airports-data.csv', header=True, inferSchema=True)"
   ],
   "id": "c28408612526d07b",
   "outputs": [
    {
     "name": "stderr",
     "output_type": "stream",
     "text": [
      "                                                                                \r"
     ]
    }
   ],
   "execution_count": 10
  },
  {
   "metadata": {
    "ExecuteTime": {
     "end_time": "2024-12-05T11:11:34.909213Z",
     "start_time": "2024-12-05T11:11:34.692482Z"
    }
   },
   "cell_type": "code",
   "source": "airlines.show(3)",
   "id": "b12692b1e3ab6602",
   "outputs": [
    {
     "name": "stdout",
     "output_type": "stream",
     "text": [
      "+----+-----+----------+---------+-------+----------+-------+----------+-------------+---------+-------+-----------------+--------------+-------+--------+--------+------+----+--------+------+-------+---------+----------------+--------+------------+------------+--------+-------------+-----------------+\n",
      "|Year|Month|DayofMonth|DayOfWeek|DepTime|CRSDepTime|ArrTime|CRSArrTime|UniqueCarrier|FlightNum|TailNum|ActualElapsedTime|CRSElapsedTime|AirTime|ArrDelay|DepDelay|Origin|Dest|Distance|TaxiIn|TaxiOut|Cancelled|CancellationCode|Diverted|CarrierDelay|WeatherDelay|NASDelay|SecurityDelay|LateAircraftDelay|\n",
      "+----+-----+----------+---------+-------+----------+-------+----------+-------------+---------+-------+-----------------+--------------+-------+--------+--------+------+----+--------+------+-------+---------+----------------+--------+------------+------------+--------+-------------+-----------------+\n",
      "|2008|    1|         3|        4|   2003|      1955|   2211|      2225|           WN|      335| N712SW|              128|           150|    116|     -14|       8|   IAD| TPA|     810|     4|      8|        0|            NULL|       0|          NA|          NA|      NA|           NA|               NA|\n",
      "|2008|    1|         3|        4|    754|       735|   1002|      1000|           WN|     3231| N772SW|              128|           145|    113|       2|      19|   IAD| TPA|     810|     5|     10|        0|            NULL|       0|          NA|          NA|      NA|           NA|               NA|\n",
      "|2008|    1|         3|        4|    628|       620|    804|       750|           WN|      448| N428WN|               96|            90|     76|      14|       8|   IND| BWI|     515|     3|     17|        0|            NULL|       0|          NA|          NA|      NA|           NA|               NA|\n",
      "+----+-----+----------+---------+-------+----------+-------+----------+-------------+---------+-------+-----------------+--------------+-------+--------+--------+------+----+--------+------+-------+---------+----------------+--------+------------+------------+--------+-------------+-----------------+\n",
      "only showing top 3 rows\n",
      "\n"
     ]
    },
    {
     "name": "stderr",
     "output_type": "stream",
     "text": [
      "24/12/05 16:11:34 WARN SparkStringUtils: Truncated the string representation of a plan since it was too large. This behavior can be adjusted by setting 'spark.sql.debug.maxToStringFields'.\n"
     ]
    }
   ],
   "execution_count": 11
  },
  {
   "metadata": {
    "ExecuteTime": {
     "end_time": "2024-12-05T11:11:35.668875Z",
     "start_time": "2024-12-05T11:11:35.583090Z"
    }
   },
   "cell_type": "code",
   "source": "airports.show(3)",
   "id": "8a8d9815b2317a6",
   "outputs": [
    {
     "name": "stdout",
     "output_type": "stream",
     "text": [
      "+--------------------+------+\n",
      "|                name|Origin|\n",
      "+--------------------+------+\n",
      "|      Goroka Airport|   GKA|\n",
      "|      Madang Airport|   MAG|\n",
      "|Mount Hagen Kagam...|   HGU|\n",
      "+--------------------+------+\n",
      "only showing top 3 rows\n",
      "\n"
     ]
    }
   ],
   "execution_count": 12
  },
  {
   "metadata": {
    "ExecuteTime": {
     "end_time": "2024-12-05T11:11:36.937639Z",
     "start_time": "2024-12-05T11:11:36.239613Z"
    }
   },
   "cell_type": "code",
   "source": [
    "merged = airports.join(airlines, on='Origin', how='inner')\n",
    "merged.show(3)"
   ],
   "id": "b6b4ea212a1da779",
   "outputs": [
    {
     "name": "stdout",
     "output_type": "stream",
     "text": [
      "+------+--------------------+----+-----+----------+---------+-------+----------+-------+----------+-------------+---------+-------+-----------------+--------------+-------+--------+--------+----+--------+------+-------+---------+----------------+--------+------------+------------+--------+-------------+-----------------+\n",
      "|Origin|                name|Year|Month|DayofMonth|DayOfWeek|DepTime|CRSDepTime|ArrTime|CRSArrTime|UniqueCarrier|FlightNum|TailNum|ActualElapsedTime|CRSElapsedTime|AirTime|ArrDelay|DepDelay|Dest|Distance|TaxiIn|TaxiOut|Cancelled|CancellationCode|Diverted|CarrierDelay|WeatherDelay|NASDelay|SecurityDelay|LateAircraftDelay|\n",
      "+------+--------------------+----+-----+----------+---------+-------+----------+-------+----------+-------------+---------+-------+-----------------+--------------+-------+--------+--------+----+--------+------+-------+---------+----------------+--------+------------+------------+--------+-------------+-----------------+\n",
      "|   IAD|Washington Dulles...|2008|    1|         3|        4|   2003|      1955|   2211|      2225|           WN|      335| N712SW|              128|           150|    116|     -14|       8| TPA|     810|     4|      8|        0|            NULL|       0|          NA|          NA|      NA|           NA|               NA|\n",
      "|   IAD|Washington Dulles...|2008|    1|         3|        4|    754|       735|   1002|      1000|           WN|     3231| N772SW|              128|           145|    113|       2|      19| TPA|     810|     5|     10|        0|            NULL|       0|          NA|          NA|      NA|           NA|               NA|\n",
      "|   IND|Indianapolis Inte...|2008|    1|         3|        4|    628|       620|    804|       750|           WN|      448| N428WN|               96|            90|     76|      14|       8| BWI|     515|     3|     17|        0|            NULL|       0|          NA|          NA|      NA|           NA|               NA|\n",
      "+------+--------------------+----+-----+----------+---------+-------+----------+-------+----------+-------------+---------+-------+-----------------+--------------+-------+--------+--------+----+--------+------+-------+---------+----------------+--------+------------+------------+--------+-------------+-----------------+\n",
      "only showing top 3 rows\n",
      "\n"
     ]
    }
   ],
   "execution_count": 13
  },
  {
   "metadata": {
    "ExecuteTime": {
     "end_time": "2024-12-05T11:11:41.678156Z",
     "start_time": "2024-12-05T11:11:36.966822Z"
    }
   },
   "cell_type": "code",
   "source": [
    "uniques = merged.groupBy('Cancelled').agg(F.count('CancellationCode').alias('Count'))\n",
    "cancels = uniques.filter(uniques['Cancelled'] == 1)\n",
    "cancels.show()"
   ],
   "id": "eaef442cbc886f19",
   "outputs": [
    {
     "name": "stderr",
     "output_type": "stream",
     "text": [
      "[Stage 12:====================================>                     (5 + 3) / 8]\r"
     ]
    },
    {
     "name": "stdout",
     "output_type": "stream",
     "text": [
      "+---------+------+\n",
      "|Cancelled| Count|\n",
      "+---------+------+\n",
      "|        1|137115|\n",
      "+---------+------+\n",
      "\n"
     ]
    },
    {
     "name": "stderr",
     "output_type": "stream",
     "text": [
      "                                                                                \r"
     ]
    }
   ],
   "execution_count": 14
  },
  {
   "metadata": {
    "ExecuteTime": {
     "end_time": "2024-12-05T11:12:05.503385Z",
     "start_time": "2024-12-05T11:12:05.281360Z"
    }
   },
   "cell_type": "code",
   "source": [
    "merged1 = merged.where(merged['Cancelled'] != 1)\n",
    "merged1.show(3)"
   ],
   "id": "c712fd95143e133e",
   "outputs": [
    {
     "name": "stdout",
     "output_type": "stream",
     "text": [
      "+------+--------------------+----+-----+----------+---------+-------+----------+-------+----------+-------------+---------+-------+-----------------+--------------+-------+--------+--------+----+--------+------+-------+---------+----------------+--------+------------+------------+--------+-------------+-----------------+\n",
      "|Origin|                name|Year|Month|DayofMonth|DayOfWeek|DepTime|CRSDepTime|ArrTime|CRSArrTime|UniqueCarrier|FlightNum|TailNum|ActualElapsedTime|CRSElapsedTime|AirTime|ArrDelay|DepDelay|Dest|Distance|TaxiIn|TaxiOut|Cancelled|CancellationCode|Diverted|CarrierDelay|WeatherDelay|NASDelay|SecurityDelay|LateAircraftDelay|\n",
      "+------+--------------------+----+-----+----------+---------+-------+----------+-------+----------+-------------+---------+-------+-----------------+--------------+-------+--------+--------+----+--------+------+-------+---------+----------------+--------+------------+------------+--------+-------------+-----------------+\n",
      "|   IAD|Washington Dulles...|2008|    1|         3|        4|   2003|      1955|   2211|      2225|           WN|      335| N712SW|              128|           150|    116|     -14|       8| TPA|     810|     4|      8|        0|            NULL|       0|          NA|          NA|      NA|           NA|               NA|\n",
      "|   IAD|Washington Dulles...|2008|    1|         3|        4|    754|       735|   1002|      1000|           WN|     3231| N772SW|              128|           145|    113|       2|      19| TPA|     810|     5|     10|        0|            NULL|       0|          NA|          NA|      NA|           NA|               NA|\n",
      "|   IND|Indianapolis Inte...|2008|    1|         3|        4|    628|       620|    804|       750|           WN|      448| N428WN|               96|            90|     76|      14|       8| BWI|     515|     3|     17|        0|            NULL|       0|          NA|          NA|      NA|           NA|               NA|\n",
      "+------+--------------------+----+-----+----------+---------+-------+----------+-------+----------+-------------+---------+-------+-----------------+--------------+-------+--------+--------+----+--------+------+-------+---------+----------------+--------+------------+------------+--------+-------------+-----------------+\n",
      "only showing top 3 rows\n",
      "\n"
     ]
    }
   ],
   "execution_count": 15
  },
  {
   "metadata": {
    "ExecuteTime": {
     "end_time": "2024-12-05T11:12:11.034893Z",
     "start_time": "2024-12-05T11:12:05.828928Z"
    }
   },
   "cell_type": "code",
   "source": [
    "perday = merged1.groupBy('Year', 'Month', 'DayofMonth', 'name').agg(F.count('FlightNum').alias('FlightsCount'))\n",
    "avv = perday.groupBy('name').agg({'FlightsCount': 'avg'}).alias('AverageFlightsCount')\n",
    "\n",
    "avv.show()\n",
    "spark.stop()"
   ],
   "id": "80cfe3747123cb7e",
   "outputs": [
    {
     "name": "stderr",
     "output_type": "stream",
     "text": [
      "[Stage 18:===========================================>              (6 + 2) / 8]\r"
     ]
    },
    {
     "name": "stdout",
     "output_type": "stream",
     "text": [
      "+--------------------+------------------+\n",
      "|                name| avg(FlightsCount)|\n",
      "+--------------------+------------------+\n",
      "|Melbourne Interna...| 5.352459016393443|\n",
      "|     Eppley Airfield| 72.48907103825137|\n",
      "|George Bush Inter...|  498.386301369863|\n",
      "|     Kahului Airport| 53.69672131147541|\n",
      "|Detroit Metropoli...|435.53551912568304|\n",
      "|Port Columbus Int...| 91.22950819672131|\n",
      "|St George Municip...|               9.0|\n",
      "|Waco Regional Air...| 5.257534246575342|\n",
      "|Sacramento Intern...|143.57650273224044|\n",
      "|Fayetteville Regi...| 6.101092896174864|\n",
      "|       Meadows Field|12.158469945355192|\n",
      "|Durango La Plata ...| 9.789617486338798|\n",
      "|Falls Internation...|               1.0|\n",
      "|Fort Wayne Intern...|15.972677595628415|\n",
      "|Rafael Hernandez ...|4.1256830601092895|\n",
      "|Wilkes Barre Scra...| 6.251366120218579|\n",
      "|Elmira Corning Re...|  3.57103825136612|\n",
      "|Great Falls Inter...| 5.795081967213115|\n",
      "|Charlotte Douglas...| 338.9590163934426|\n",
      "|Atlantic City Int...| 1.036697247706422|\n",
      "+--------------------+------------------+\n",
      "only showing top 20 rows\n",
      "\n"
     ]
    },
    {
     "name": "stderr",
     "output_type": "stream",
     "text": [
      "                                                                                \r"
     ]
    }
   ],
   "execution_count": 16
  },
  {
   "metadata": {
    "ExecuteTime": {
     "end_time": "2024-12-05T11:13:10.072256Z",
     "start_time": "2024-12-05T11:12:11.104163Z"
    }
   },
   "cell_type": "code",
   "source": [
    "spark = SparkSession.builder.appName('rdd').getOrCreate()\n",
    "\n",
    "airports = spark.read.csv('airports-data.csv', header=True, inferSchema=True).rdd\n",
    "airlines = spark.read.csv('2008.csv', header=True, inferSchema=True).rdd\n",
    "\n",
    "airport_map = airports.map(lambda row: (row['Origin'], row['name']))\n",
    "flights_per_day = airlines.map(lambda row: ((row['Origin'], row['Year'], row['Month'], row['DayofMonth']), 1))\n",
    "\n",
    "daily_flight_count = flights_per_day.reduceByKey(lambda a, b: a + b)\n",
    "\n",
    "flights_per_airport = daily_flight_count.map(lambda row: (row[0][0], (row[1], 1)))\n",
    "\n",
    "flights_total_per_airport = flights_per_airport.reduceByKey(lambda a, b: (a[0] + b[0], a[1] + b[1]))\n",
    "\n",
    "average_flights_per_airport = flights_total_per_airport.mapValues(lambda totals: totals[0] / totals[1])\n",
    "\n",
    "airport_avg_flights = average_flights_per_airport.join(airport_map)\n",
    "\n",
    "results = airport_avg_flights.collect()\n",
    "for airport, (avg_flights, name) in results:\n",
    "    print(f\"{name}: {avg_flights:.2f}\")"
   ],
   "id": "b47dca8686674bf1",
   "outputs": [
    {
     "name": "stderr",
     "output_type": "stream",
     "text": [
      "[Stage 4:===================================================>       (7 + 1) / 8]\r"
     ]
    },
    {
     "name": "stdout",
     "output_type": "stream",
     "text": [
      "Birmingham-Shuttlesworth International Airport: 64.70\n",
      "Louis Armstrong New Orleans International Airport: 107.71\n",
      "Dallas Fort Worth International Airport: 768.53\n",
      "Brownsville South Padre Island International Airport: 4.00\n",
      "Mc Allen Miller International Airport: 11.25\n",
      "Port Columbus International Airport: 93.33\n",
      "San Antonio International Airport: 123.69\n",
      "Charleston Air Force Base-International Airport: 38.75\n",
      "Aspen-Pitkin Co/Sardy Field: 14.50\n",
      "South Bend Regional Airport: 14.53\n",
      "Yuma MCAS/Yuma International Airport: 10.58\n",
      "Tri Cities Airport: 6.94\n",
      "Oxnard Airport: 3.54\n",
      "El Paso International Airport: 56.64\n",
      "Huntsville International Carl T Jones Field: 29.48\n",
      "Billings Logan International Airport: 12.31\n",
      "Bob Hope Airport: 85.81\n",
      "Spokane International Airport: 42.51\n",
      "Grand Junction Regional Airport: 14.08\n",
      "Mahlon Sweet Field: 15.71\n",
      "Gulfport Biloxi International Airport: 23.34\n",
      "Lewiston Nez Perce County Airport: 1.79\n",
      "Jack Mc Namara Field Airport: 2.91\n",
      "Luis Munoz Marin International Airport: 59.22\n",
      "Evansville Regional Airport: 15.97\n",
      "Daytona Beach International Airport: 8.08\n",
      "Kona International At Keahole Airport: 34.73\n",
      "Roberts Field: 9.41\n",
      "Southwest Georgia Regional Airport: 2.99\n",
      "Dubuque Regional Airport: 3.69\n",
      "Corpus Christi International Airport: 14.40\n",
      "Tucson International Airport: 72.84\n",
      "Wichita Mid Continent Airport: 38.39\n",
      "Northwest Arkansas Regional Airport: 38.56\n",
      "Casper-Natrona County International Airport: 7.40\n",
      "St George Municipal Airport: 9.09\n",
      "Jackson Hole Airport: 10.29\n",
      "Bismarck Municipal Airport: 6.27\n",
      "Minot International Airport: 2.96\n",
      "Cleveland Hopkins International Airport: 179.77\n",
      "Columbia Metropolitan Airport: 28.83\n",
      "Toledo Express Airport: 4.04\n",
      "Kodiak Airport: 1.94\n",
      "General Wayne A. Downing Peoria International Airport: 15.25\n",
      "Sawyer International Airport: 2.71\n",
      "Greater Binghamton/Edwin A Link field: 1.99\n",
      "Jackson-Medgar Wiley Evers International Airport: 34.45\n",
      "James M Cox Dayton International Airport: 43.14\n",
      "Hilton Head Airport: 2.50\n",
      "Albuquerque International Sunport Airport: 112.42\n",
      "Baltimore/Washington International Thurgood Marshall Airport: 284.36\n",
      "Southeast Texas Regional Airport: 1.05\n",
      "Dane County Regional Truax Field: 38.14\n",
      "Fort Smith Regional Airport: 8.02\n",
      "Valdosta Regional Airport: 2.56\n",
      "Columbus Metropolitan Airport: 4.05\n",
      "Portland International Airport: 158.09\n",
      "Southwest Florida International Airport: 74.14\n",
      "Sacramento International Airport: 144.96\n",
      "Rick Husband Amarillo International Airport: 20.48\n",
      "Salt Lake City International Airport: 380.02\n",
      "Fresno Yosemite International Airport: 39.01\n",
      "Syracuse Hancock International Airport: 32.87\n",
      "Portland International Jetport Airport: 18.84\n",
      "Nome Airport: 2.99\n",
      "Yellowstone Airport: 2.30\n",
      "Austin Bergstrom International Airport: 135.58\n",
      "Orlando International Airport: 357.57\n",
      "Tyler Pounds Regional Airport: 4.33\n",
      "Wiley Post Will Rogers Memorial Airport: 2.00\n",
      "Eppley Airfield: 73.79\n",
      "Mobile Regional Airport: 17.34\n",
      "Mc Clellan-Palomar Airport: 6.31\n",
      "Newport News Williamsburg International Airport: 17.50\n",
      "Pocatello Regional Airport: 4.55\n",
      "Chicago Rockford International Airport: 1.86\n",
      "Bemidji Regional Airport: 1.00\n",
      "Ithaca Tompkins Regional Airport: 1.00\n",
      "Texarkana Regional Webb Field: 3.42\n",
      "Akron Canton Regional Airport: 24.57\n",
      "Pellston Regional Airport of Emmet County Airport: 2.34\n",
      "Nantucket Memorial Airport: 4.57\n",
      "Metropolitan Oakland International Airport: 170.86\n",
      "Theodore Francis Green State Airport: 61.50\n",
      "Elmira Corning Regional Airport: 3.65\n",
      "Muskegon County Airport: 2.55\n",
      "Meadows Field: 12.30\n",
      "Lafayette Regional Airport: 13.33\n",
      "Elko Regional Airport: 4.33\n",
      "Golden Triangle Regional Airport: 2.63\n",
      "Pierre Regional Airport: 1.00\n",
      "Pittsburgh International Airport: 114.21\n",
      "John F Kennedy International Airport: 324.60\n",
      "Tri Cities Regional Tn Va Airport: 5.78\n",
      "Stewart International Airport: 11.61\n",
      "Sheppard Air Force Base-Wichita Falls Municipal Airport: 6.67\n",
      "Central Wisconsin Airport: 7.00\n",
      "Brunswick Golden Isles Airport: 2.53\n",
      "Phoenix Sky Harbor International Airport: 544.83\n",
      "Tallahassee Regional Airport: 16.15\n",
      "Fort Wayne International Airport: 16.79\n",
      "Key West International Airport: 2.76\n",
      "Dillingham Airport: 1.00\n",
      "Nashville International Airport: 157.21\n",
      "Bangor International Airport: 7.87\n",
      "Quad City International Airport: 23.41\n",
      "Augusta Regional At Bush Field: 6.57\n",
      "Charlotte Douglas International Airport: 344.39\n",
      "Ralph Wien Memorial Airport: 2.98\n",
      "Alexandria International Airport: 6.37\n",
      "Salem Municipal Airport/McNary Field: 1.72\n",
      "Missoula International Airport: 8.90\n",
      "Modesto City Co-Harry Sham Field: 6.37\n",
      "University Park Airport: 1.76\n",
      "Wrangell Airport: 2.00\n",
      "Will Rogers World Airport: 68.72\n",
      "Albany International Airport: 36.81\n",
      "Memphis International Airport: 221.22\n",
      "Miami International Airport: 170.93\n",
      "Lynchburg Regional Preston Glenn Field: 1.71\n",
      "Klamath Falls Airport: 2.89\n",
      "McCarran International Airport: 472.34\n",
      "Hartsfield Jackson Atlanta International Airport: 1132.55\n",
      "Atlantic City International Airport: 1.04\n",
      "Erie International Tom Ridge Field: 3.82\n",
      "Bellingham International Airport: 1.00\n",
      "Boise Air Terminal/Gowen field: 46.51\n",
      "Manchester Airport: 50.79\n",
      "John Wayne Airport-Orange County Airport: 129.44\n",
      "Deadhorse Airport: 2.00\n",
      "Norman Y. Mineta San Jose International Airport: 156.11\n",
      "Tampa International Airport: 213.60\n",
      "Chicago O'Hare International Airport: 957.32\n",
      "Lihue Airport: 36.02\n",
      "Springfield Branson National Airport: 27.56\n",
      "Pueblo Memorial Airport: 1.00\n",
      "Bill & Hillary Clinton National Airport/Adams Field: 41.99\n",
      "Kansas City International Airport: 162.21\n",
      "Monterey Peninsula Airport: 20.78\n",
      "Savannah Hilton Head International Airport: 37.63\n",
      "Eagle County Regional Airport: 8.49\n",
      "George Bush Intercontinental Houston Airport: 505.93\n",
      "General Edward Lawrence Logan International Airport: 322.17\n",
      "San Francisco International Airport: 384.12\n",
      "Easterwood Field: 3.73\n",
      "Chico Municipal Airport: 3.81\n",
      "Minneapolis-St Paul International/Wold-Chamberlain Airport: 355.98\n",
      "Greenville Spartanburg International Airport: 32.39\n",
      "Yeager Airport: 9.33\n",
      "Myrtle Beach International Airport: 14.58\n",
      "Santa Barbara Municipal Airport: 34.34\n",
      "East Texas Regional Airport: 2.67\n",
      "Duluth International Airport: 5.50\n",
      "Coastal Carolina Regional Airport: 2.17\n",
      "Key Field: 1.84\n",
      "Greenbrier Valley Airport: 1.00\n",
      "Gustavus Airport: 1.00\n",
      "Buffalo Niagara International Airport: 71.81\n",
      "Joe Foss Field Airport: 15.92\n",
      "Tri-State/Milton J. Ferguson Field: 1.72\n",
      "Pensacola Regional Airport: 25.95\n",
      "Montgomery Regional (Dannelly Field) Airport: 10.52\n",
      "San Luis County Regional Airport: 15.97\n",
      "Friedman Memorial Airport: 7.87\n",
      "Ted Stevens Anchorage International Airport: 52.81\n",
      "Abilene Regional Airport: 7.27\n",
      "Sitka Rocky Gutierrez Airport: 3.64\n",
      "Valley International Airport: 12.08\n",
      "Cherry Capital Airport: 11.64\n",
      "Bradley International Airport: 80.46\n",
      "Seattle Tacoma International Airport: 298.00\n",
      "Abraham Lincoln Capital Airport: 3.42\n",
      "Helena Regional Airport: 5.43\n",
      "Cedar City Regional Airport: 1.86\n",
      "Lubbock Preston Smith International Airport: 22.54\n",
      "Monroe Regional Airport: 6.91\n",
      "Louisville International Standiford Field: 61.36\n",
      "Newark Liberty International Airport: 378.43\n",
      "Rogue Valley International Medford Airport: 15.44\n",
      "Tulsa International Airport: 64.10\n",
      "Roanoke–Blacksburg Regional Airport: 10.16\n",
      "Hector International Airport: 12.11\n",
      "Inyokern Airport: 2.62\n",
      "Adak Airport: 1.00\n",
      "Yellowstone Regional Airport: 3.25\n",
      "Durango La Plata County Airport: 10.04\n",
      "Yakutat Airport: 2.00\n",
      "Denver International Airport: 659.68\n",
      "Midland International Airport: 18.69\n",
      "Great Falls International Airport: 5.85\n",
      "Ketchikan International Airport: 6.50\n",
      "Gillette Campbell County Airport: 3.78\n",
      "Indianapolis International Airport: 116.80\n",
      "City of Colorado Springs Municipal Airport: 44.27\n",
      "Greater Rochester International Airport: 38.97\n",
      "Asheville Regional Airport: 12.02\n",
      "Arcata Airport: 10.18\n",
      "Redding Municipal Airport: 4.61\n",
      "Bishop International Airport: 23.90\n",
      "Middle Georgia Regional Airport: 2.23\n",
      "Detroit Metropolitan Wayne County Airport: 442.59\n",
      "Montrose Regional Airport: 6.61\n",
      "Flagstaff Pulliam Airport: 5.11\n",
      "Imperial County Airport: 2.71\n",
      "Lake Charles Regional Airport: 2.74\n",
      "Harrisburg International Airport: 20.75\n",
      "Florence Regional Airport: 1.69\n",
      "Mercedita Airport: 2.06\n",
      "Chicago Midway International Airport: 239.40\n",
      "Henry E Rohlsen Airport: 1.25\n",
      "Rochester International Airport: 9.16\n",
      "Fort Lauderdale Hollywood International Airport: 183.54\n",
      "Lambert St Louis International Airport: 171.40\n",
      "Richmond International Airport: 54.58\n",
      "MBS International Airport: 7.97\n",
      "Waco Regional Airport: 5.45\n",
      "Petersburg James A Johnson Airport: 2.00\n",
      "Southwest Oregon Regional Airport: 2.91\n",
      "Kahului Airport: 54.48\n",
      "Kalamazoo Battle Creek International Airport: 10.72\n",
      "Bethel Airport: 2.84\n",
      "Cincinnati Northern Kentucky International Airport: 249.36\n",
      "Cyril E. King Airport: 8.12\n",
      "Rhinelander Oneida County Airport: 1.00\n",
      "Ontario International Airport: 95.83\n",
      "Reno Tahoe International Airport: 66.36\n",
      "Westchester County Airport: 29.28\n",
      "Gainesville Regional Airport: 5.64\n",
      "Rafael Hernandez Airport: 4.15\n",
      "Palm Beach International Airport: 76.02\n",
      "General Mitchell International Airport: 116.67\n",
      "Destin-Ft Walton Beach Airport: 18.63\n",
      "Honolulu International Airport: 153.76\n",
      "Waterloo Regional Airport: 1.00\n",
      "Norfolk International Airport: 44.97\n",
      "Burlington International Airport: 19.14\n",
      "Lehigh Valley International Airport: 13.13\n",
      "Des Moines International Airport: 45.47\n",
      "Appleton International Airport: 16.05\n",
      "Central Illinois Regional Airport at Bloomington-Normal: 13.12\n",
      "The Eastern Iowa Airport: 25.62\n",
      "Wilmington International Airport: 9.28\n",
      "Charlottesville Albemarle Airport: 2.25\n",
      "University of Illinois Willard Airport: 7.58\n",
      "Merle K (Mudhole) Smith Airport: 2.00\n",
      "Dallas Love Field: 147.34\n",
      "William P Hobby Airport: 152.82\n",
      "Capital City Airport: 10.09\n",
      "Gallatin Field: 12.73\n",
      "Houghton County Memorial Airport: 1.13\n",
      "Rock Springs Sweetwater County Airport: 3.44\n",
      "McGhee Tyson Airport: 38.26\n",
      "Yakima Air Terminal McAllister Field: 1.43\n",
      "Panama City-Bay Co International Airport: 10.59\n",
      "San Angelo Regional Mathis Field: 4.11\n",
      "Laredo International Airport: 5.78\n",
      "Wilkes Barre Scranton International Airport: 6.52\n",
      "Idaho Falls Regional Airport: 9.21\n",
      "Washington Dulles International Airport: 207.73\n",
      "Robert Gray  Army Air Field Airport: 10.20\n",
      "Gerald R. Ford International Airport: 45.40\n",
      "Yampa Valley Airport: 6.55\n",
      "Santa Maria Pub/Capt G Allan Hancock Field: 4.61\n",
      "Dothan Regional Airport: 3.82\n",
      "La Crosse Municipal Airport: 5.48\n",
      "King Salmon Airport: 1.00\n",
      "Falls International Airport: 1.00\n",
      "Long Island Mac Arthur Airport: 27.82\n",
      "Los Angeles International Airport: 589.09\n",
      "San Diego International Airport: 256.22\n",
      "Piedmont Triad International Airport: 37.04\n",
      "Ronald Reagan Washington National Airport: 236.78\n",
      "Palm Springs International Airport: 32.73\n",
      "Rapid City Regional Airport: 11.37\n",
      "Glacier Park International Airport: 7.55\n",
      "Palmdale Regional/USAF Plant 42 Airport: 2.14\n",
      "Albert J Ellis Airport: 3.23\n",
      "Tupelo Regional Airport: 1.43\n",
      "Hilo International Airport: 22.00\n",
      "Bert Mooney Airport: 1.94\n",
      "Lincoln Airport: 8.30\n",
      "Long Beach /Daugherty Field/ Airport: 42.19\n",
      "La Guardia Airport: 325.51\n",
      "Lovell Field: 12.49\n",
      "Gunnison Crested Butte Regional Airport: 2.62\n",
      "Sioux Gateway Col. Bud Day Field: 1.18\n",
      "Lawton Fort Sill Regional Airport: 6.47\n",
      "Fairbanks International Airport: 13.17\n",
      "Blue Grass Airport: 28.26\n",
      "Joslin Field Magic Valley Regional Airport: 4.97\n",
      "Melbourne International Airport: 5.47\n",
      "Roswell International Air Center Airport: 2.63\n",
      "Telluride Regional Airport: 1.85\n",
      "Juneau International Airport: 12.05\n",
      "Raleigh Durham International Airport: 164.42\n",
      "Sarasota Bradenton International Airport: 17.57\n",
      "Austin Straubel International Airport: 21.67\n",
      "Grand Forks International Airport: 3.75\n",
      "Jacksonville International Airport: 89.30\n",
      "Philadelphia International Airport: 274.59\n",
      "Shreveport Regional Airport: 22.07\n",
      "Fayetteville Regional Grannis Field: 6.19\n"
     ]
    },
    {
     "name": "stderr",
     "output_type": "stream",
     "text": [
      "                                                                                \r"
     ]
    }
   ],
   "execution_count": 17
  },
  {
   "metadata": {
    "ExecuteTime": {
     "end_time": "2024-12-05T11:13:11.070700Z",
     "start_time": "2024-12-05T11:13:10.136616Z"
    }
   },
   "cell_type": "code",
   "source": "spark.stop()",
   "id": "5ae1060fb7166033",
   "outputs": [],
   "execution_count": 18
  },
  {
   "metadata": {},
   "cell_type": "code",
   "outputs": [],
   "execution_count": null,
   "source": "",
   "id": "9e7e21998c6e4fd4"
  }
 ],
 "metadata": {
  "kernelspec": {
   "display_name": "Python 3",
   "language": "python",
   "name": "python3"
  },
  "language_info": {
   "codemirror_mode": {
    "name": "ipython",
    "version": 2
   },
   "file_extension": ".py",
   "mimetype": "text/x-python",
   "name": "python",
   "nbconvert_exporter": "python",
   "pygments_lexer": "ipython2",
   "version": "2.7.6"
  }
 },
 "nbformat": 4,
 "nbformat_minor": 5
}
